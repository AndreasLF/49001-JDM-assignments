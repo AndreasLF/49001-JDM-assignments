{
 "cells": [
  {
   "cell_type": "code",
   "execution_count": 4,
   "metadata": {},
   "outputs": [],
   "source": [
    "import pandas as pd"
   ]
  },
  {
   "cell_type": "code",
   "execution_count": 24,
   "metadata": {},
   "outputs": [
    {
     "name": "stdout",
     "output_type": "stream",
     "text": [
      "    acc. date            type    reg.                    operator  fat.  \\\n",
      "0  1983-01-23  Boeing 767-231  N602TW        Trans World Airlines     0   \n",
      "1  1983-07-23  Boeing 767-233  C-GAUN                  Air Canada     0   \n",
      "2  1983-08-19  Boeing 767-222  N609UA             United Airlines     0   \n",
      "3  1983-11-02  Boeing 767-231  N605TW  Trans World Airlines - TWA     0   \n",
      "4  1983-12-09  Boeing 767-222  N613UA             United Airlines     0   \n",
      "\n",
      "                  location  dmg  \n",
      "0            San Diego, CA  min  \n",
      "1  Gimli Airport, MB (YGM)  sub  \n",
      "2    74 km W of Denver, CO  non  \n",
      "3        San Francisco, CA  min  \n",
      "4               Denver, CO  non  \n",
      "\\begin{tabular}{llllrll}\n",
      "\\toprule\n",
      "acc. date & type & reg. & operator & fat. & location & dmg \\\\\n",
      "\\midrule\n",
      "1983-01-23 & Boeing 767-231 & N602TW & Trans World Airlines & 0 & San Diego, CA & min \\\\\n",
      "1983-07-23 & Boeing 767-233 & C-GAUN & Air Canada & 0 & Gimli Airport, MB (YGM) & sub \\\\\n",
      "1983-08-19 & Boeing 767-222 & N609UA & United Airlines & 0 & 74 km W of Denver, CO & non \\\\\n",
      "1983-11-02 & Boeing 767-231 & N605TW & Trans World Airlines - TWA & 0 & San Francisco, CA & min \\\\\n",
      "1983-12-09 & Boeing 767-222 & N613UA & United Airlines & 0 & Denver, CO & non \\\\\n",
      "\\bottomrule\n",
      "\\end{tabular}\n",
      "\n"
     ]
    }
   ],
   "source": [
    "# load the data/all_accidents.csv file\n",
    "\n",
    "# print the first 5 rows of the dataframe\n",
    "\n",
    "df = pd.read_csv('data/all_accidents.csv')\n",
    "\n",
    "print(df.head(5))\n",
    "\n",
    "# print latex code for the first 5 rows of the dataframe\n",
    "\n",
    "print(df.head(5).to_latex(index=False))"
   ]
  },
  {
   "cell_type": "code",
   "execution_count": 7,
   "metadata": {},
   "outputs": [],
   "source": [
    "# between 2012 and 2016 acc. date \n",
    "df_2012_2016 = df[(df['acc. date'] >= '2012-01-01') & (df['acc. date'] <= '2016-12-31')]"
   ]
  },
  {
   "cell_type": "code",
   "execution_count": 26,
   "metadata": {},
   "outputs": [
    {
     "name": "stdout",
     "output_type": "stream",
     "text": [
      "Average yearly accidents (2012-2016): 587.0\n",
      "Average yearly fatal accidents (2012-2016): 9.8\n",
      "Probability of a fatal accident (2012-2016): 0.016695059625212946\n"
     ]
    }
   ],
   "source": [
    "# Now count the number of rows \n",
    "print(\"Average yearly accidents (2012-2016):\", df_2012_2016.shape[0]/5)\n",
    "\n",
    "# count the number of rows where the accident was fatal\n",
    "print(\"Average yearly fatal accidents (2012-2016):\", df_2012_2016[df_2012_2016['fat.'] != 0].shape[0]/5)\n",
    "\n",
    "\n",
    "# probability of a fatal accident\n",
    "print(\"Probability of a fatal accident (2012-2016):\", 1-df_2012_2016[df_2012_2016['fat.'] != 0].shape[0]/df_2012_2016.shape[0])"
   ]
  },
  {
   "cell_type": "code",
   "execution_count": 23,
   "metadata": {},
   "outputs": [
    {
     "name": "stdout",
     "output_type": "stream",
     "text": [
      "Fatal accidents per year (2012-2016):\n",
      "year\n",
      "2012    15\n",
      "2013    10\n",
      "2014     7\n",
      "2015     7\n",
      "2016    10\n",
      "dtype: int64\n"
     ]
    },
    {
     "name": "stderr",
     "output_type": "stream",
     "text": [
      "/var/folders/2s/5jbx0969453ddjkm4cjcwx4h0000gn/T/ipykernel_46870/3285302718.py:2: SettingWithCopyWarning: \n",
      "A value is trying to be set on a copy of a slice from a DataFrame.\n",
      "Try using .loc[row_indexer,col_indexer] = value instead\n",
      "\n",
      "See the caveats in the documentation: https://pandas.pydata.org/pandas-docs/stable/user_guide/indexing.html#returning-a-view-versus-a-copy\n",
      "  df_2012_2016['acc. date'] = pd.to_datetime(df_2012_2016['acc. date'], errors='coerce')  # Convert to datetime\n",
      "/var/folders/2s/5jbx0969453ddjkm4cjcwx4h0000gn/T/ipykernel_46870/3285302718.py:5: SettingWithCopyWarning: \n",
      "A value is trying to be set on a copy of a slice from a DataFrame.\n",
      "Try using .loc[row_indexer,col_indexer] = value instead\n",
      "\n",
      "See the caveats in the documentation: https://pandas.pydata.org/pandas-docs/stable/user_guide/indexing.html#returning-a-view-versus-a-copy\n",
      "  df_2012_2016['year'] = df_2012_2016['acc. date'].dt.year\n"
     ]
    }
   ],
   "source": [
    "# Assuming df_2012_2016 is your DataFrame and 'acc. date' is in a string format\n",
    "df_2012_2016['acc. date'] = pd.to_datetime(df_2012_2016['acc. date'], errors='coerce')  # Convert to datetime\n",
    "\n",
    "# Extract the year from the 'acc. date' column\n",
    "df_2012_2016['year'] = df_2012_2016['acc. date'].dt.year\n",
    "\n",
    "# Filter for fatal accidents ('fat.' != 0)\n",
    "fatal_accidents = df_2012_2016[df_2012_2016['fat.'] != 0]\n",
    "\n",
    "# Group by year and count the number of fatal accidents\n",
    "fatal_accidents_per_year = fatal_accidents.groupby('year').size()\n",
    "\n",
    "# Print the result\n",
    "print(\"Fatal accidents per year (2012-2016):\")\n",
    "print(fatal_accidents_per_year)"
   ]
  },
  {
   "cell_type": "code",
   "execution_count": null,
   "metadata": {},
   "outputs": [],
   "source": []
  }
 ],
 "metadata": {
  "kernelspec": {
   "display_name": "jdm",
   "language": "python",
   "name": "python3"
  },
  "language_info": {
   "codemirror_mode": {
    "name": "ipython",
    "version": 3
   },
   "file_extension": ".py",
   "mimetype": "text/x-python",
   "name": "python",
   "nbconvert_exporter": "python",
   "pygments_lexer": "ipython3",
   "version": "3.11.7"
  }
 },
 "nbformat": 4,
 "nbformat_minor": 2
}
